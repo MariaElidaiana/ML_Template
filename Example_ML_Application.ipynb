{
 "cells": [
  {
   "cell_type": "markdown",
   "metadata": {},
   "source": [
    "# Galaxy cluster mass estimates using machien learning methods"
   ]
  },
  {
   "cell_type": "markdown",
   "metadata": {},
   "source": [
    "This python notebook is meant to accompy Armitage et. al in prep. It contains a few example code snippits to introduce the reader to the python package sci-kit learn, and how to use sklearn to estimate the mass of galaxy clusters. If you find this notebook useful feel free to use parts of it in your own work and please cite Armitage et. al in prep, thank you!"
   ]
  },
  {
   "cell_type": "markdown",
   "metadata": {},
   "source": [
    "## Setting up initial data"
   ]
  },
  {
   "cell_type": "markdown",
   "metadata": {},
   "source": [
    "First import all the packages we shall be using"
   ]
  },
  {
   "cell_type": "code",
   "execution_count": 93,
   "metadata": {},
   "outputs": [],
   "source": [
    "# Import standard packages\n",
    "import numpy as np\n",
    "import scipy.stats as sps\n",
    "import pandas as pd\n",
    "import matplotlib.pyplot as plt\n",
    "from matplotlib import rcParams\n",
    "rcParams.update({'text.latex.preamble':[r\"\\usepackage{amsmath}\"]})\n",
    "# The example data file is pickled, not necessary for your own work\n",
    "import pickle\n",
    "\n",
    "# Import scikit learn\n",
    "import sklearn as skl\n",
    "from sklearn.preprocessing import RobustScaler\n",
    "from sklearn.feature_selection import RFECV\n",
    "from sklearn.model_selection import KFold\n",
    "from sklearn.kernel_ridge import KernelRidge\n",
    "from sklearn.model_selection import GridSearchCV\n",
    "from sklearn.linear_model import Ridge, LinearRegression\n"
   ]
  },
  {
   "cell_type": "markdown",
   "metadata": {},
   "source": [
    "Then read in the example data"
   ]
  },
  {
   "cell_type": "code",
   "execution_count": 94,
   "metadata": {},
   "outputs": [],
   "source": [
    "with open('ExampleGalaxyData.dat' , 'rb') as f:\n",
    "    data=pickle.load(f)\n",
    "f.close()"
   ]
  },
  {
   "cell_type": "markdown",
   "metadata": {},
   "source": [
    "This is a pandas data frame containing a subset of the MACSIS clusters (Barnes et al. 2017) at $z=0.25$. The clusters are projected along a cylinder of length $10r_{200c}$, with an aperture of $1r_{200c}$. All galaxies within this cylinder above a stellar mass of $10^{10} \\, \\rm M_\\odot$ are included and all clusters have at least 10 galaxies inside the cylinder.\n",
    "\n",
    "The data is structured as follows:"
   ]
  },
  {
   "cell_type": "code",
   "execution_count": 95,
   "metadata": {},
   "outputs": [
    {
     "data": {
      "text/html": [
       "<div>\n",
       "<style scoped>\n",
       "    .dataframe tbody tr th:only-of-type {\n",
       "        vertical-align: middle;\n",
       "    }\n",
       "\n",
       "    .dataframe tbody tr th {\n",
       "        vertical-align: top;\n",
       "    }\n",
       "\n",
       "    .dataframe thead th {\n",
       "        text-align: right;\n",
       "    }\n",
       "</style>\n",
       "<table border=\"1\" class=\"dataframe\">\n",
       "  <thead>\n",
       "    <tr style=\"text-align: right;\">\n",
       "      <th></th>\n",
       "      <th>M200</th>\n",
       "      <th>R200</th>\n",
       "      <th>posProj</th>\n",
       "      <th>velProj</th>\n",
       "      <th>massProj</th>\n",
       "      <th>RposProj</th>\n",
       "      <th>WL</th>\n",
       "      <th>M500</th>\n",
       "      <th>Xray</th>\n",
       "      <th>R500</th>\n",
       "      <th>sT500_CE</th>\n",
       "      <th>Ysz_5R500</th>\n",
       "      <th>Lb500_CE</th>\n",
       "    </tr>\n",
       "    <tr>\n",
       "      <th>hm</th>\n",
       "      <th></th>\n",
       "      <th></th>\n",
       "      <th></th>\n",
       "      <th></th>\n",
       "      <th></th>\n",
       "      <th></th>\n",
       "      <th></th>\n",
       "      <th></th>\n",
       "      <th></th>\n",
       "      <th></th>\n",
       "      <th></th>\n",
       "      <th></th>\n",
       "      <th></th>\n",
       "    </tr>\n",
       "  </thead>\n",
       "  <tbody>\n",
       "    <tr>\n",
       "      <th>0000</th>\n",
       "      <td>4.746686e+15</td>\n",
       "      <td>3.264318</td>\n",
       "      <td>[[0.0, 0.0], [-0.1040420949031119, 0.971253299...</td>\n",
       "      <td>[98.07203674316406, 2734.514892578125, 2234.14...</td>\n",
       "      <td>[42108875695136.125, 657260405625.0404, 115079...</td>\n",
       "      <td>[0.0, 0.9768099758935769, 0.48081314504030453,...</td>\n",
       "      <td>6.166477e+15</td>\n",
       "      <td>3.510442e+15</td>\n",
       "      <td>2.222507e+15</td>\n",
       "      <td>1.867363</td>\n",
       "      <td>15.052479</td>\n",
       "      <td>0.001744</td>\n",
       "      <td>1.121513e+46</td>\n",
       "    </tr>\n",
       "    <tr>\n",
       "      <th>0001</th>\n",
       "      <td>1.654676e+15</td>\n",
       "      <td>2.297391</td>\n",
       "      <td>[[0.0, 0.0], [0.08733142323575868, 1.421278952...</td>\n",
       "      <td>[724.2275390625, 930.0521850585938, 2905.94873...</td>\n",
       "      <td>[12544811350662.168, 1258760710917.9023, 43747...</td>\n",
       "      <td>[0.0, 1.4239594935696613, 1.2436218203732083, ...</td>\n",
       "      <td>9.209932e+14</td>\n",
       "      <td>9.705162e+14</td>\n",
       "      <td>5.512971e+14</td>\n",
       "      <td>1.173302</td>\n",
       "      <td>6.524063</td>\n",
       "      <td>0.000532</td>\n",
       "      <td>1.871028e+45</td>\n",
       "    </tr>\n",
       "  </tbody>\n",
       "</table>\n",
       "</div>"
      ],
      "text/plain": [
       "              M200      R200  \\\n",
       "hm                             \n",
       "0000  4.746686e+15  3.264318   \n",
       "0001  1.654676e+15  2.297391   \n",
       "\n",
       "                                                posProj  \\\n",
       "hm                                                        \n",
       "0000  [[0.0, 0.0], [-0.1040420949031119, 0.971253299...   \n",
       "0001  [[0.0, 0.0], [0.08733142323575868, 1.421278952...   \n",
       "\n",
       "                                                velProj  \\\n",
       "hm                                                        \n",
       "0000  [98.07203674316406, 2734.514892578125, 2234.14...   \n",
       "0001  [724.2275390625, 930.0521850585938, 2905.94873...   \n",
       "\n",
       "                                               massProj  \\\n",
       "hm                                                        \n",
       "0000  [42108875695136.125, 657260405625.0404, 115079...   \n",
       "0001  [12544811350662.168, 1258760710917.9023, 43747...   \n",
       "\n",
       "                                               RposProj            WL  \\\n",
       "hm                                                                      \n",
       "0000  [0.0, 0.9768099758935769, 0.48081314504030453,...  6.166477e+15   \n",
       "0001  [0.0, 1.4239594935696613, 1.2436218203732083, ...  9.209932e+14   \n",
       "\n",
       "              M500          Xray      R500   sT500_CE  Ysz_5R500      Lb500_CE  \n",
       "hm                                                                              \n",
       "0000  3.510442e+15  2.222507e+15  1.867363  15.052479   0.001744  1.121513e+46  \n",
       "0001  9.705162e+14  5.512971e+14  1.173302   6.524063   0.000532  1.871028e+45  "
      ]
     },
     "execution_count": 95,
     "metadata": {},
     "output_type": "execute_result"
    }
   ],
   "source": [
    "data.head(2)"
   ]
  },
  {
   "cell_type": "markdown",
   "metadata": {},
   "source": [
    "M200 and R200 are the mass and radius of the cluster in $\\rm M_\\odot$ and $\\rm Mpc$ respectivly. The pos, vel, mass and Rpos 'proj' data are arrays of the projected positions $\\rm [Mpc]$, velocities $\\rm [km/s]$, stellar masses $\\rm [M_\\odot]$ and projected radial positions $\\rm [Mpc]$ of the galaxies in each cluster.\n",
    "\n",
    "The following data are not used explicitly in this notebook, but are included in case you wish to try out something extra. WL is the estimated weak lensing mass of the clusters, M500 the mass inside R500 and Xray is the hydrostatic mass estimate of $M_{500c} \\, [\\rm M_\\odot]$. sT500_CE and Lb500_CE are the core-excised surface termperature and bolometric luminosity of the clusters inside $r_{500c}$ and Ysz_5R500 is the SZ flux inside $5r_{500c}$. These values are from Henson et al. 2017 and Barnes et al. 2017.\n",
    "\n",
    "The index is the halo number and is a unique integer identifier of the cluster."
   ]
  },
  {
   "cell_type": "markdown",
   "metadata": {},
   "source": [
    "## Extracting features from the data\n",
    "The machine learning technqies used in this work need to be individual floats (see [here](https://dougalsutherland.github.io/skl-groups/index.html) for a different implimentation which takes the whole distribution as a feature as used in Ntampaka et al. 2015).\n",
    "\n",
    "Here we shall extract the mean, standard error on the mean, standard deviation, skewness and kurtosis of the galaxy velocity, mass and position distributions of each cluster as well as the number of galaxies."
   ]
  },
  {
   "cell_type": "code",
   "execution_count": 96,
   "metadata": {},
   "outputs": [],
   "source": [
    "def FeatureCreation(df,spectroscopic=True,Ngal=True):\n",
    "    # The purpose of this function is the take the galaxy data of each MACSIS\n",
    "    # cluster and create a set of features, which can then be fed into sklearn\n",
    "    # regression algorithms\n",
    "    featDf=pd.DataFrame()\n",
    "\n",
    "    # Features to extract\n",
    "    fname=['kurt','skew','sem','std','mean']\n",
    "    spsFuncs=[sps.kurtosis,sps.skew,sps.sem,np.std,np.mean]\n",
    "        \n",
    "    abbrvNames={'RposProj':'Rpos','massProj':'mass'}\n",
    "\n",
    "    # Add in velocity infomation if the data set is spectroscopic\n",
    "    if spectroscopic==True:\n",
    "        abbrvNames['velProj']='vel'\n",
    "\n",
    "    for idx,func in enumerate(spsFuncs):\n",
    "        tmpDf=df['posProj'].apply(func,args=(0,))\n",
    "        tmpDf=tmpDf.apply(pd.Series)\n",
    "        featDf['X_'+fname[idx]]=tmpDf[0]\n",
    "        featDf['Y_'+fname[idx]]=tmpDf[1]\n",
    "\n",
    "    for key in abbrvNames.keys():\n",
    "        for idx,func in enumerate(spsFuncs):\n",
    "            tmpDf=df[key].apply(func)\n",
    "            # Take the log of the velocity dispersion as it \n",
    "            # scales M \\propto \\sigma^3\n",
    "            if (abbrvNames[key]=='vel')&(fname[idx]=='std'):\n",
    "                featDf[abbrvNames[key]+'_'+fname[idx]]=np.log10(tmpDf)\n",
    "            else:\n",
    "                featDf[abbrvNames[key]+'_'+fname[idx]]=tmpDf\n",
    "\n",
    "    # Log of the number of galaxies in the cluster\n",
    "    if Ngal==True:\n",
    "        featDf['LogNgal']=np.log10(df['massProj'].apply(len))\n",
    "\n",
    "    return featDf"
   ]
  },
  {
   "cell_type": "code",
   "execution_count": 97,
   "metadata": {},
   "outputs": [
    {
     "name": "stdout",
     "output_type": "stream",
     "text": [
      "Number of features:  26\n",
      "Index(['X_kurt', 'Y_kurt', 'X_skew', 'Y_skew', 'X_sem', 'Y_sem', 'X_std',\n",
      "       'Y_std', 'X_mean', 'Y_mean', 'Rpos_kurt', 'Rpos_skew', 'Rpos_sem',\n",
      "       'Rpos_std', 'Rpos_mean', 'mass_kurt', 'mass_skew', 'mass_sem',\n",
      "       'mass_std', 'mass_mean', 'vel_kurt', 'vel_skew', 'vel_sem', 'vel_std',\n",
      "       'vel_mean', 'LogNgal'],\n",
      "      dtype='object')\n"
     ]
    }
   ],
   "source": [
    "featDf=FeatureCreation(data,spectroscopic=True)\n",
    "\n",
    "print('Number of features: ',len(featDf.keys()))\n",
    "print(featDf.keys())"
   ]
  },
  {
   "cell_type": "markdown",
   "metadata": {},
   "source": [
    "Many machine learning algorithms assume that the features are centred around 0 with a width of $\\mathcal{O}(1)$. We scale the data by dividing by the 68% spread and subtracting the median."
   ]
  },
  {
   "cell_type": "code",
   "execution_count": 98,
   "metadata": {},
   "outputs": [],
   "source": [
    "X=featDf.values\n",
    "X = RobustScaler().fit_transform(X)"
   ]
  },
  {
   "cell_type": "markdown",
   "metadata": {},
   "source": [
    "X now contains a N features for each cluster. We also need a feature that we will train our model to reproduce. In this case it will simply be the mass of the cluster logged, $\\log M_{200c}$."
   ]
  },
  {
   "cell_type": "code",
   "execution_count": 99,
   "metadata": {},
   "outputs": [],
   "source": [
    "LogM200=np.log10(data.M200.values)"
   ]
  },
  {
   "cell_type": "markdown",
   "metadata": {},
   "source": [
    "## Feature elimination\n",
    "Some of the features generated will contain little useful information regarding $M_{200c}$. We can use recursive feature elimination to get rid unhelpful features."
   ]
  },
  {
   "cell_type": "code",
   "execution_count": 100,
   "metadata": {},
   "outputs": [],
   "source": [
    "def REF_Only(X,y,score='r2'):\n",
    "    # This estimator could be changed easily to give better results\n",
    "    #estimator = SVR(kernel=\"linear\")\n",
    "    estimator = LinearRegression()\n",
    "    #estimator = Ridge()\n",
    "\n",
    "    # Possible regression scorers \n",
    "    #['r2','neg_median_absolute_error','neg_mean_absolute_error']\n",
    "    \n",
    "    selector = RFECV(estimator, step=1, cv=5,scoring=score)\n",
    "\n",
    "    selector = selector.fit(X, y)\n",
    "    # X_new contains only the best features\n",
    "    X_rfe = selector.fit_transform(X, y)\n",
    "\n",
    "    return X_rfe,selector.ranking_,selector.grid_scores_"
   ]
  },
  {
   "cell_type": "code",
   "execution_count": 101,
   "metadata": {},
   "outputs": [
    {
     "data": {
      "image/png": "[encoded data removed]",
      "text/plain": [
       "<Figure size 432x288 with 1 Axes>"
      ]
     },
     "metadata": {},
     "output_type": "display_data"
    }
   ],
   "source": [
    "X_rfe,ranking,grid_scores=REF_Only(X,LogM200,score='r2')\n",
    "\n",
    "#Plot the regressor score against number of features\n",
    "plt.plot(np.arange(len(grid_scores))+1,grid_scores,lw=2)\n",
    "plt.axvline(np.argmax(grid_scores)+1,lw=2,c='k')\n",
    "plt.xlabel('$N \\, \\mathrm{features}$',fontsize=20)\n",
    "plt.ylabel('$r^2$',fontsize=20)\n",
    "plt.title('Recursive Feature Elimination')\n",
    "plt.show()"
   ]
  },
  {
   "cell_type": "markdown",
   "metadata": {},
   "source": [
    "We have marked the maximum value of $r^2$ on the plot above, the curve is relativly flat beyond 10 features, but peaks at 19. These 19 features are what is returned as X_rfe."
   ]
  },
  {
   "cell_type": "markdown",
   "metadata": {},
   "source": [
    "## Training the model\n",
    "Finally we are ready to train the regression model. As per Armitage et al. in prep we shall use ridge regression, though it is relativly simple to replace with whatever model you desire in sklearn, you can change the 'model' keyword to 'OLR' or 'KRR' for ordinary linear regression and kernal ridge regression respectivly. This function also tunes any hyper-parameters using the GridSearchCV method."
   ]
  },
  {
   "cell_type": "code",
   "execution_count": 102,
   "metadata": {},
   "outputs": [],
   "source": [
    "def SplitAndTrain(X,y,splits,model='OLR'):\n",
    "    #y_pred is log_10 masses\n",
    "    kf=KFold(n_splits=splits, random_state=3, shuffle=True)\n",
    "\n",
    "    allRatios=np.array([])\n",
    "\n",
    "    # Predected values of y\n",
    "    y_pred_Arr=np.ones(len(y))+np.nan\n",
    "\n",
    "    # Split the data into random 'splits'. Shuffle round to always\n",
    "    # test on one and train on the rest.\n",
    "    for train_index, test_index in kf.split(X):\n",
    "        \n",
    "        X_train, X_test = X[train_index], X[test_index]\n",
    "        y_train, y_test = y[train_index], y[test_index]\n",
    "        # Now that I have my training and testing datasets train a \n",
    "        # given model.\n",
    "        if model=='KRR':\n",
    "            mod_clf = GridSearchCV(\n",
    "                        KernelRidge(kernel='rbf', gamma=0.1),\n",
    "                        cv=5,\n",
    "                        param_grid={\n",
    "                                \"alpha\": [1e0, 0.1, 1e-2, 1e-3],\n",
    "                                \"gamma\": np.logspace(-2, 2, 5)\n",
    "                                })\n",
    "            y_pred = mod_clf.fit(X_train, y_train).predict(X_test)\n",
    "\n",
    "        elif model=='OLR':\n",
    "            mod_clf = LinearRegression(fit_intercept=True)\n",
    "            mod_clf.fit(X_train, y_train)\n",
    "            y_pred=mod_clf.predict(X_test)\n",
    "            \n",
    "\n",
    "        elif model=='Ridge':\n",
    "            mod_clf=GridSearchCV(Ridge(fit_intercept=True), cv=5,\n",
    "                       param_grid={\"alpha\": np.linspace(0.1,9.1,21),\n",
    "                                   })\n",
    "            mod_clf.fit(X_train, y_train)\n",
    "            y_pred=mod_clf.predict(X_test)\n",
    "\n",
    "        y_pred_Arr[test_index]=y_pred\n",
    "\n",
    "    return mod_clf,y_pred_Arr"
   ]
  },
  {
   "cell_type": "code",
   "execution_count": 103,
   "metadata": {},
   "outputs": [],
   "source": [
    "trainedModel,LogM200_pred=SplitAndTrain(X_rfe,LogM200,splits=10,model='Ridge')"
   ]
  },
  {
   "cell_type": "code",
   "execution_count": 104,
   "metadata": {},
   "outputs": [
    {
     "data": {
      "image/png": "[encoded data removed]",
      "text/plain": [
       "<Figure size 432x288 with 1 Axes>"
      ]
     },
     "metadata": {},
     "output_type": "display_data"
    }
   ],
   "source": [
    "# Plot the predicted mass vs true\n",
    "\n",
    "plt.loglog(10**LogM200,10**LogM200_pred,'o')\n",
    "\n",
    "plt.xlim([3e14,7e15])\n",
    "plt.ylim([3e14,7e15])\n",
    "plt.plot([3e14,1e16],[3e14,1e16],'--k',lw=2)\n",
    "\n",
    "plt.xlabel('$M_{200c} \\; \\\\rm [M_\\odot]$',fontsize=20)\n",
    "plt.ylabel('$M_{200c, \\\\rm pred} \\; \\\\rm [M_\\odot]$',fontsize=20)\n",
    "plt.show()"
   ]
  },
  {
   "cell_type": "markdown",
   "metadata": {},
   "source": [
    "### Comparison to just using the velocity dispersion\n",
    "This is just a quick comparison to show using only one feature, the velocity dispersion, to train the model"
   ]
  },
  {
   "cell_type": "code",
   "execution_count": 105,
   "metadata": {},
   "outputs": [
    {
     "data": {
      "image/png": "[encoded data removed]",
      "text/plain": [
       "<Figure size 432x288 with 1 Axes>"
      ]
     },
     "metadata": {},
     "output_type": "display_data"
    }
   ],
   "source": [
    "vel_stdOnly=featDf[['vel_std']].values\n",
    "vel_stdOnly = RobustScaler().fit_transform(vel_stdOnly)\n",
    "trainedModel_vstd,LogM200_vstd=SplitAndTrain(vel_stdOnly,LogM200,splits=10,model='Ridge')\n",
    "\n",
    "plt.loglog(10**LogM200,10**LogM200_vstd,'o')\n",
    "plt.xlim([3e14,7e15])\n",
    "plt.ylim([3e14,7e15])\n",
    "plt.plot([3e14,1e16],[3e14,1e16],'--k',lw=2)\n",
    "plt.xlabel('$M_{200c} \\; \\\\rm [M_\\odot]$',fontsize=20)\n",
    "plt.ylabel('$M_{200c, \\\\rm pred, vstd} \\; \\\\rm [M_\\odot]$',fontsize=20)\n",
    "plt.show()"
   ]
  },
  {
   "cell_type": "code",
   "execution_count": null,
   "metadata": {},
   "outputs": [],
   "source": []
  },
  {
   "cell_type": "code",
   "execution_count": null,
   "metadata": {},
   "outputs": [],
   "source": []
  }
 ],
 "metadata": {
  "kernelspec": {
   "display_name": "Python 3",
   "language": "python",
   "name": "python3"
  },
  "language_info": {
   "codemirror_mode": {
    "name": "ipython",
    "version": 3
   },
   "file_extension": ".py",
   "mimetype": "text/x-python",
   "name": "python",
   "nbconvert_exporter": "python",
   "pygments_lexer": "ipython3",
   "version": "3.6.4"
  }
 },
 "nbformat": 4,
 "nbformat_minor": 2
}
